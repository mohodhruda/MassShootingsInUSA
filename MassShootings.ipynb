{
 "cells": [
  {
   "cell_type": "code",
   "execution_count": 3,
   "metadata": {},
   "outputs": [],
   "source": [
    "import numpy as np\n",
    "import pandas as pd\n",
    "from os import path\n",
    "from PIL import Image\n",
    "from wordcloud import WordCloud, STOPWORDS, ImageColorGenerator\n",
    "\n",
    "import matplotlib.pyplot as plt\n",
    "%matplotlib inline"
   ]
  },
  {
   "cell_type": "code",
   "execution_count": 4,
   "metadata": {},
   "outputs": [],
   "source": [
    "shootings = pd.read_csv(\"Mass_Shootings.csv\", encoding = \"ISO-8859-1\")"
   ]
  },
  {
   "cell_type": "code",
   "execution_count": 6,
   "metadata": {},
   "outputs": [
    {
     "data": {
      "text/html": [
       "<div>\n",
       "<style scoped>\n",
       "    .dataframe tbody tr th:only-of-type {\n",
       "        vertical-align: middle;\n",
       "    }\n",
       "\n",
       "    .dataframe tbody tr th {\n",
       "        vertical-align: top;\n",
       "    }\n",
       "\n",
       "    .dataframe thead th {\n",
       "        text-align: right;\n",
       "    }\n",
       "</style>\n",
       "<table border=\"1\" class=\"dataframe\">\n",
       "  <thead>\n",
       "    <tr style=\"text-align: right;\">\n",
       "      <th></th>\n",
       "      <th>S#</th>\n",
       "      <th>Title</th>\n",
       "      <th>Location</th>\n",
       "      <th>Date</th>\n",
       "      <th>Incident Area</th>\n",
       "      <th>Open/Close Location</th>\n",
       "      <th>Target</th>\n",
       "      <th>Cause</th>\n",
       "      <th>Summary</th>\n",
       "      <th>Fatalities</th>\n",
       "      <th>...</th>\n",
       "      <th>Total victims</th>\n",
       "      <th>Policeman Killed</th>\n",
       "      <th>Age</th>\n",
       "      <th>Employeed (Y/N)</th>\n",
       "      <th>Employed at</th>\n",
       "      <th>Mental Health Issues</th>\n",
       "      <th>Race</th>\n",
       "      <th>Gender</th>\n",
       "      <th>Latitude</th>\n",
       "      <th>Longitude</th>\n",
       "    </tr>\n",
       "  </thead>\n",
       "  <tbody>\n",
       "    <tr>\n",
       "      <th>0</th>\n",
       "      <td>1</td>\n",
       "      <td>Texas church mass shooting</td>\n",
       "      <td>Sutherland Springs, TX</td>\n",
       "      <td>11/5/2017</td>\n",
       "      <td>Church</td>\n",
       "      <td>Close</td>\n",
       "      <td>random</td>\n",
       "      <td>unknown</td>\n",
       "      <td>Devin Patrick Kelley, 26, an ex-air force offi...</td>\n",
       "      <td>26</td>\n",
       "      <td>...</td>\n",
       "      <td>46</td>\n",
       "      <td>0.0</td>\n",
       "      <td>26</td>\n",
       "      <td>NaN</td>\n",
       "      <td>NaN</td>\n",
       "      <td>No</td>\n",
       "      <td>White</td>\n",
       "      <td>M</td>\n",
       "      <td>NaN</td>\n",
       "      <td>NaN</td>\n",
       "    </tr>\n",
       "    <tr>\n",
       "      <th>1</th>\n",
       "      <td>2</td>\n",
       "      <td>Walmart shooting in suburban Denver</td>\n",
       "      <td>Thornton, CO</td>\n",
       "      <td>11/1/2017</td>\n",
       "      <td>Wal-Mart</td>\n",
       "      <td>Open</td>\n",
       "      <td>random</td>\n",
       "      <td>unknown</td>\n",
       "      <td>Scott Allen Ostrem, 47, walked into a Walmart ...</td>\n",
       "      <td>3</td>\n",
       "      <td>...</td>\n",
       "      <td>3</td>\n",
       "      <td>0.0</td>\n",
       "      <td>47</td>\n",
       "      <td>NaN</td>\n",
       "      <td>NaN</td>\n",
       "      <td>No</td>\n",
       "      <td>White</td>\n",
       "      <td>M</td>\n",
       "      <td>NaN</td>\n",
       "      <td>NaN</td>\n",
       "    </tr>\n",
       "    <tr>\n",
       "      <th>2</th>\n",
       "      <td>3</td>\n",
       "      <td>Edgewood businees park shooting</td>\n",
       "      <td>Edgewood, MD</td>\n",
       "      <td>10/18/2017</td>\n",
       "      <td>Remodeling Store</td>\n",
       "      <td>Close</td>\n",
       "      <td>coworkers</td>\n",
       "      <td>unknown</td>\n",
       "      <td>Radee Labeeb Prince, 37, fatally shot three pe...</td>\n",
       "      <td>3</td>\n",
       "      <td>...</td>\n",
       "      <td>6</td>\n",
       "      <td>0.0</td>\n",
       "      <td>37</td>\n",
       "      <td>NaN</td>\n",
       "      <td>Advance Granite Store</td>\n",
       "      <td>No</td>\n",
       "      <td>Black</td>\n",
       "      <td>M</td>\n",
       "      <td>NaN</td>\n",
       "      <td>NaN</td>\n",
       "    </tr>\n",
       "    <tr>\n",
       "      <th>3</th>\n",
       "      <td>4</td>\n",
       "      <td>Las Vegas Strip mass shooting</td>\n",
       "      <td>Las Vegas, NV</td>\n",
       "      <td>10/1/2017</td>\n",
       "      <td>Las Vegas Strip Concert outside Mandala Bay</td>\n",
       "      <td>Open</td>\n",
       "      <td>random</td>\n",
       "      <td>unknown</td>\n",
       "      <td>Stephen Craig Paddock, opened fire from the 32...</td>\n",
       "      <td>59</td>\n",
       "      <td>...</td>\n",
       "      <td>585</td>\n",
       "      <td>1.0</td>\n",
       "      <td>64</td>\n",
       "      <td>NaN</td>\n",
       "      <td>NaN</td>\n",
       "      <td>Unclear</td>\n",
       "      <td>White</td>\n",
       "      <td>M</td>\n",
       "      <td>36.181271</td>\n",
       "      <td>-115.134132</td>\n",
       "    </tr>\n",
       "    <tr>\n",
       "      <th>4</th>\n",
       "      <td>5</td>\n",
       "      <td>San Francisco UPS shooting</td>\n",
       "      <td>San Francisco, CA</td>\n",
       "      <td>6/14/2017</td>\n",
       "      <td>UPS facility</td>\n",
       "      <td>Close</td>\n",
       "      <td>coworkers</td>\n",
       "      <td>NaN</td>\n",
       "      <td>Jimmy Lam, 38, fatally shot three coworkers an...</td>\n",
       "      <td>3</td>\n",
       "      <td>...</td>\n",
       "      <td>5</td>\n",
       "      <td>0.0</td>\n",
       "      <td>38</td>\n",
       "      <td>1.0</td>\n",
       "      <td>NaN</td>\n",
       "      <td>Yes</td>\n",
       "      <td>Asian</td>\n",
       "      <td>M</td>\n",
       "      <td>NaN</td>\n",
       "      <td>NaN</td>\n",
       "    </tr>\n",
       "  </tbody>\n",
       "</table>\n",
       "<p>5 rows × 21 columns</p>\n",
       "</div>"
      ],
      "text/plain": [
       "   S#                                Title                Location  \\\n",
       "0   1           Texas church mass shooting  Sutherland Springs, TX   \n",
       "1   2  Walmart shooting in suburban Denver            Thornton, CO   \n",
       "2   3      Edgewood businees park shooting            Edgewood, MD   \n",
       "3   4        Las Vegas Strip mass shooting           Las Vegas, NV   \n",
       "4   5           San Francisco UPS shooting       San Francisco, CA   \n",
       "\n",
       "         Date                                Incident Area  \\\n",
       "0   11/5/2017                                       Church   \n",
       "1   11/1/2017                                     Wal-Mart   \n",
       "2  10/18/2017                             Remodeling Store   \n",
       "3   10/1/2017  Las Vegas Strip Concert outside Mandala Bay   \n",
       "4   6/14/2017                                 UPS facility   \n",
       "\n",
       "  Open/Close Location     Target    Cause  \\\n",
       "0               Close     random  unknown   \n",
       "1                Open     random  unknown   \n",
       "2               Close  coworkers  unknown   \n",
       "3                Open     random  unknown   \n",
       "4               Close  coworkers      NaN   \n",
       "\n",
       "                                             Summary  Fatalities  ...  \\\n",
       "0  Devin Patrick Kelley, 26, an ex-air force offi...          26  ...   \n",
       "1  Scott Allen Ostrem, 47, walked into a Walmart ...           3  ...   \n",
       "2  Radee Labeeb Prince, 37, fatally shot three pe...           3  ...   \n",
       "3  Stephen Craig Paddock, opened fire from the 32...          59  ...   \n",
       "4  Jimmy Lam, 38, fatally shot three coworkers an...           3  ...   \n",
       "\n",
       "   Total victims  Policeman Killed  Age Employeed (Y/N)  \\\n",
       "0             46               0.0   26             NaN   \n",
       "1              3               0.0   47             NaN   \n",
       "2              6               0.0   37             NaN   \n",
       "3            585               1.0   64             NaN   \n",
       "4              5               0.0   38             1.0   \n",
       "\n",
       "             Employed at Mental Health Issues   Race Gender   Latitude  \\\n",
       "0                    NaN                   No  White      M        NaN   \n",
       "1                    NaN                   No  White      M        NaN   \n",
       "2  Advance Granite Store                   No  Black      M        NaN   \n",
       "3                    NaN              Unclear  White      M  36.181271   \n",
       "4                    NaN                  Yes  Asian      M        NaN   \n",
       "\n",
       "    Longitude  \n",
       "0         NaN  \n",
       "1         NaN  \n",
       "2         NaN  \n",
       "3 -115.134132  \n",
       "4         NaN  \n",
       "\n",
       "[5 rows x 21 columns]"
      ]
     },
     "execution_count": 6,
     "metadata": {},
     "output_type": "execute_result"
    }
   ],
   "source": [
    "shootings.head(5)"
   ]
  },
  {
   "cell_type": "code",
   "execution_count": 7,
   "metadata": {},
   "outputs": [
    {
     "data": {
      "text/html": [
       "<div>\n",
       "<style scoped>\n",
       "    .dataframe tbody tr th:only-of-type {\n",
       "        vertical-align: middle;\n",
       "    }\n",
       "\n",
       "    .dataframe tbody tr th {\n",
       "        vertical-align: top;\n",
       "    }\n",
       "\n",
       "    .dataframe thead th {\n",
       "        text-align: right;\n",
       "    }\n",
       "</style>\n",
       "<table border=\"1\" class=\"dataframe\">\n",
       "  <thead>\n",
       "    <tr style=\"text-align: right;\">\n",
       "      <th></th>\n",
       "      <th>Race</th>\n",
       "      <th>Fatalities</th>\n",
       "    </tr>\n",
       "  </thead>\n",
       "  <tbody>\n",
       "    <tr>\n",
       "      <th>14</th>\n",
       "      <td>White American or European American/Some other...</td>\n",
       "      <td>1</td>\n",
       "    </tr>\n",
       "    <tr>\n",
       "      <th>2</th>\n",
       "      <td>Asian American/Some other race</td>\n",
       "      <td>1</td>\n",
       "    </tr>\n",
       "    <tr>\n",
       "      <th>5</th>\n",
       "      <td>Black American or African American/Unknown</td>\n",
       "      <td>1</td>\n",
       "    </tr>\n",
       "    <tr>\n",
       "      <th>8</th>\n",
       "      <td>Other</td>\n",
       "      <td>2</td>\n",
       "    </tr>\n",
       "    <tr>\n",
       "      <th>10</th>\n",
       "      <td>Two or more races</td>\n",
       "      <td>2</td>\n",
       "    </tr>\n",
       "    <tr>\n",
       "      <th>7</th>\n",
       "      <td>Native American or Alaska Native</td>\n",
       "      <td>3</td>\n",
       "    </tr>\n",
       "    <tr>\n",
       "      <th>15</th>\n",
       "      <td>black</td>\n",
       "      <td>3</td>\n",
       "    </tr>\n",
       "    <tr>\n",
       "      <th>3</th>\n",
       "      <td>Black</td>\n",
       "      <td>5</td>\n",
       "    </tr>\n",
       "    <tr>\n",
       "      <th>6</th>\n",
       "      <td>Latino</td>\n",
       "      <td>5</td>\n",
       "    </tr>\n",
       "    <tr>\n",
       "      <th>0</th>\n",
       "      <td>Asian</td>\n",
       "      <td>6</td>\n",
       "    </tr>\n",
       "    <tr>\n",
       "      <th>12</th>\n",
       "      <td>White</td>\n",
       "      <td>9</td>\n",
       "    </tr>\n",
       "    <tr>\n",
       "      <th>1</th>\n",
       "      <td>Asian American</td>\n",
       "      <td>11</td>\n",
       "    </tr>\n",
       "    <tr>\n",
       "      <th>16</th>\n",
       "      <td>white</td>\n",
       "      <td>12</td>\n",
       "    </tr>\n",
       "    <tr>\n",
       "      <th>9</th>\n",
       "      <td>Some other race</td>\n",
       "      <td>20</td>\n",
       "    </tr>\n",
       "    <tr>\n",
       "      <th>11</th>\n",
       "      <td>Unknown</td>\n",
       "      <td>42</td>\n",
       "    </tr>\n",
       "    <tr>\n",
       "      <th>4</th>\n",
       "      <td>Black American or African American</td>\n",
       "      <td>76</td>\n",
       "    </tr>\n",
       "    <tr>\n",
       "      <th>13</th>\n",
       "      <td>White American or European American</td>\n",
       "      <td>122</td>\n",
       "    </tr>\n",
       "  </tbody>\n",
       "</table>\n",
       "</div>"
      ],
      "text/plain": [
       "                                                 Race  Fatalities\n",
       "14  White American or European American/Some other...           1\n",
       "2                      Asian American/Some other race           1\n",
       "5          Black American or African American/Unknown           1\n",
       "8                                               Other           2\n",
       "10                                  Two or more races           2\n",
       "7                    Native American or Alaska Native           3\n",
       "15                                              black           3\n",
       "3                                               Black           5\n",
       "6                                              Latino           5\n",
       "0                                               Asian           6\n",
       "12                                              White           9\n",
       "1                                      Asian American          11\n",
       "16                                              white          12\n",
       "9                                     Some other race          20\n",
       "11                                            Unknown          42\n",
       "4                  Black American or African American          76\n",
       "13                White American or European American         122"
      ]
     },
     "execution_count": 7,
     "metadata": {},
     "output_type": "execute_result"
    }
   ],
   "source": [
    "shootings[['Fatalities','Race']].groupby('Race',as_index=False).count().sort_values(by='Fatalities',ascending='False')"
   ]
  },
  {
   "cell_type": "code",
   "execution_count": 8,
   "metadata": {},
   "outputs": [],
   "source": [
    "shootings.replace(['White American or European American','white','White','White American or European American/Some other Race',\n",
    "                   'Black American or African American','Black','black','Black American or African American/Unknown',\n",
    "                  'Asian American','Asian','Asian American/Some other race',\n",
    "                  'Some other race','Two or more races','Other'],\n",
    "                  ['White','White','White','White',\n",
    "                  'African American','African American','African American','African American',\n",
    "                  'Asian','Asian','Asian',\n",
    "                  'Unknown','Unknown','Unknown'],inplace=True)"
   ]
  },
  {
   "cell_type": "code",
   "execution_count": 9,
   "metadata": {},
   "outputs": [
    {
     "data": {
      "text/plain": [
       "array(['White', 'African American', 'Asian', nan, 'Latino', 'Unknown',\n",
       "       'Native American or Alaska Native'], dtype=object)"
      ]
     },
     "execution_count": 9,
     "metadata": {},
     "output_type": "execute_result"
    }
   ],
   "source": [
    "shootings['Race'].unique()"
   ]
  },
  {
   "cell_type": "code",
   "execution_count": 10,
   "metadata": {},
   "outputs": [
    {
     "data": {
      "text/html": [
       "<div>\n",
       "<style scoped>\n",
       "    .dataframe tbody tr th:only-of-type {\n",
       "        vertical-align: middle;\n",
       "    }\n",
       "\n",
       "    .dataframe tbody tr th {\n",
       "        vertical-align: top;\n",
       "    }\n",
       "\n",
       "    .dataframe thead th {\n",
       "        text-align: right;\n",
       "    }\n",
       "</style>\n",
       "<table border=\"1\" class=\"dataframe\">\n",
       "  <thead>\n",
       "    <tr style=\"text-align: right;\">\n",
       "      <th></th>\n",
       "      <th>Race</th>\n",
       "      <th>Fatalities</th>\n",
       "    </tr>\n",
       "  </thead>\n",
       "  <tbody>\n",
       "    <tr>\n",
       "      <th>5</th>\n",
       "      <td>White</td>\n",
       "      <td>144</td>\n",
       "    </tr>\n",
       "    <tr>\n",
       "      <th>0</th>\n",
       "      <td>African American</td>\n",
       "      <td>85</td>\n",
       "    </tr>\n",
       "    <tr>\n",
       "      <th>4</th>\n",
       "      <td>Unknown</td>\n",
       "      <td>66</td>\n",
       "    </tr>\n",
       "    <tr>\n",
       "      <th>1</th>\n",
       "      <td>Asian</td>\n",
       "      <td>18</td>\n",
       "    </tr>\n",
       "    <tr>\n",
       "      <th>2</th>\n",
       "      <td>Latino</td>\n",
       "      <td>5</td>\n",
       "    </tr>\n",
       "    <tr>\n",
       "      <th>3</th>\n",
       "      <td>Native American or Alaska Native</td>\n",
       "      <td>3</td>\n",
       "    </tr>\n",
       "  </tbody>\n",
       "</table>\n",
       "</div>"
      ],
      "text/plain": [
       "                               Race  Fatalities\n",
       "5                             White         144\n",
       "0                  African American          85\n",
       "4                           Unknown          66\n",
       "1                             Asian          18\n",
       "2                            Latino           5\n",
       "3  Native American or Alaska Native           3"
      ]
     },
     "execution_count": 10,
     "metadata": {},
     "output_type": "execute_result"
    }
   ],
   "source": [
    "shootings[['Fatalities','Race']].groupby('Race',as_index=False).count().sort_values(by='Fatalities',ascending=False)"
   ]
  },
  {
   "cell_type": "code",
   "execution_count": 11,
   "metadata": {},
   "outputs": [],
   "source": [
    "shootings.replace(['M','M/F'],['Male','Male/Female'],inplace=True)"
   ]
  },
  {
   "cell_type": "code",
   "execution_count": 12,
   "metadata": {},
   "outputs": [
    {
     "data": {
      "text/html": [
       "<div>\n",
       "<style scoped>\n",
       "    .dataframe tbody tr th:only-of-type {\n",
       "        vertical-align: middle;\n",
       "    }\n",
       "\n",
       "    .dataframe tbody tr th {\n",
       "        vertical-align: top;\n",
       "    }\n",
       "\n",
       "    .dataframe thead th {\n",
       "        text-align: right;\n",
       "    }\n",
       "</style>\n",
       "<table border=\"1\" class=\"dataframe\">\n",
       "  <thead>\n",
       "    <tr style=\"text-align: right;\">\n",
       "      <th></th>\n",
       "      <th>Gender</th>\n",
       "      <th>Fatalities</th>\n",
       "    </tr>\n",
       "  </thead>\n",
       "  <tbody>\n",
       "    <tr>\n",
       "      <th>1</th>\n",
       "      <td>Male</td>\n",
       "      <td>292</td>\n",
       "    </tr>\n",
       "    <tr>\n",
       "      <th>3</th>\n",
       "      <td>Unknown</td>\n",
       "      <td>21</td>\n",
       "    </tr>\n",
       "    <tr>\n",
       "      <th>0</th>\n",
       "      <td>Female</td>\n",
       "      <td>5</td>\n",
       "    </tr>\n",
       "    <tr>\n",
       "      <th>2</th>\n",
       "      <td>Male/Female</td>\n",
       "      <td>5</td>\n",
       "    </tr>\n",
       "  </tbody>\n",
       "</table>\n",
       "</div>"
      ],
      "text/plain": [
       "        Gender  Fatalities\n",
       "1         Male         292\n",
       "3      Unknown          21\n",
       "0       Female           5\n",
       "2  Male/Female           5"
      ]
     },
     "execution_count": 12,
     "metadata": {},
     "output_type": "execute_result"
    }
   ],
   "source": [
    "shootings[['Gender','Fatalities']].groupby('Gender',as_index=False).count().sort_values(by='Fatalities',ascending=False)"
   ]
  },
  {
   "cell_type": "code",
   "execution_count": 17,
   "metadata": {},
   "outputs": [
    {
     "data": {
      "text/plain": [
       "Text(0, 0.5, 'Fatalities')"
      ]
     },
     "execution_count": 17,
     "metadata": {},
     "output_type": "execute_result"
    },
    {
     "data": {
      "image/png": "[encoded data removed]",
      "text/plain": [
       "<Figure size 432x288 with 1 Axes>"
      ]
     },
     "metadata": {
      "needs_background": "light"
     },
     "output_type": "display_data"
    }
   ],
   "source": [
    "plt.bar(shootings['Gender'],shootings['Fatalities'],align='center',color='maroon')\n",
    "plt.xlabel('Gender')\n",
    "plt.ylabel('Fatalities')"
   ]
  },
  {
   "cell_type": "code",
   "execution_count": 14,
   "metadata": {},
   "outputs": [],
   "source": [
    "shootings.fillna('0',inplace=True)"
   ]
  },
  {
   "cell_type": "code",
   "execution_count": 15,
   "metadata": {},
   "outputs": [
    {
     "data": {
      "text/plain": [
       "105     0\n",
       "104     0\n",
       "237     0\n",
       "107     0\n",
       "109     0\n",
       "110     0\n",
       "111     0\n",
       "112     0\n",
       "113     0\n",
       "114     0\n",
       "115     0\n",
       "116     0\n",
       "117     0\n",
       "118     0\n",
       "119     0\n",
       "120     0\n",
       "103     0\n",
       "102     0\n",
       "101     0\n",
       "100     0\n",
       "81      0\n",
       "83      0\n",
       "84      0\n",
       "85      0\n",
       "86      0\n",
       "88      0\n",
       "89      0\n",
       "121     0\n",
       "90      0\n",
       "92      0\n",
       "       ..\n",
       "231    44\n",
       "247    44\n",
       "302    44\n",
       "165    44\n",
       "178    45\n",
       "203    45\n",
       "279    45\n",
       "6      45\n",
       "205    45\n",
       "207    45\n",
       "1      47\n",
       "246    47\n",
       "291    47\n",
       "250    48\n",
       "236    48\n",
       "282    50\n",
       "311    51\n",
       "212    52\n",
       "292    52\n",
       "278    55\n",
       "309    55\n",
       "82     57\n",
       "93     57\n",
       "166    59\n",
       "189    59\n",
       "300    59\n",
       "171    64\n",
       "3      64\n",
       "241    66\n",
       "174    70\n",
       "Name: Age, Length: 323, dtype: object"
      ]
     },
     "execution_count": 15,
     "metadata": {},
     "output_type": "execute_result"
    }
   ],
   "source": [
    "shootings['Age'].sort_values()"
   ]
  },
  {
   "cell_type": "code",
   "execution_count": 16,
   "metadata": {},
   "outputs": [
    {
     "data": {
      "text/plain": [
       "Text(0, 0.5, 'Fatalities')"
      ]
     },
     "execution_count": 16,
     "metadata": {},
     "output_type": "execute_result"
    },
    {
     "data": {
      "image/png": "[encoded data removed]",
      "text/plain": [
       "<Figure size 1800x360 with 1 Axes>"
      ]
     },
     "metadata": {
      "needs_background": "light"
     },
     "output_type": "display_data"
    }
   ],
   "source": [
    "plt.figure(figsize=(25,5))\n",
    "plt.bar(shootings['Age'].sort_values(),shootings['Fatalities'],align='center',)\n",
    "plt.xlabel('Age')\n",
    "plt.ylabel('Fatalities')"
   ]
  },
  {
   "cell_type": "code",
   "execution_count": 22,
   "metadata": {},
   "outputs": [
    {
     "data": {
      "text/plain": [
       "<BarContainer object of 323 artists>"
      ]
     },
     "execution_count": 22,
     "metadata": {},
     "output_type": "execute_result"
    },
    {
     "data": {
      "image/png": "[encoded data removed]",
      "text/plain": [
       "<Figure size 1296x360 with 1 Axes>"
      ]
     },
     "metadata": {
      "needs_background": "light"
     },
     "output_type": "display_data"
    }
   ],
   "source": [
    "plt.figure(figsize=(18,5))\n",
    "plt.bar(shootings['Race'],shootings['Fatalities'],align='center',color='maroon')"
   ]
  },
  {
   "cell_type": "code",
   "execution_count": null,
   "metadata": {},
   "outputs": [],
   "source": []
  }
 ],
 "metadata": {
  "kernelspec": {
   "display_name": "Python 3",
   "language": "python",
   "name": "python3"
  },
  "language_info": {
   "codemirror_mode": {
    "name": "ipython",
    "version": 3
   },
   "file_extension": ".py",
   "mimetype": "text/x-python",
   "name": "python",
   "nbconvert_exporter": "python",
   "pygments_lexer": "ipython3",
   "version": "3.7.3"
  }
 },
 "nbformat": 4,
 "nbformat_minor": 2
}
